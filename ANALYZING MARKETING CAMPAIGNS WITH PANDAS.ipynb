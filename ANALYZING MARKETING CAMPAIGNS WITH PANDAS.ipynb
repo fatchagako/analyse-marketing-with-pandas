{
 "cells": [
  {
   "cell_type": "markdown",
   "id": "86982255",
   "metadata": {},
   "source": [
    "# ANALYZING MARKETING CAMPAIGNS WITH PANDAS"
   ]
  },
  {
   "cell_type": "markdown",
   "id": "71288d7c",
   "metadata": {},
   "source": [
    "### Chapitre I : Pandas"
   ]
  },
  {
   "cell_type": "code",
   "execution_count": 4,
   "id": "b91a3e25",
   "metadata": {},
   "outputs": [],
   "source": [
    "# Importing data using pandas"
   ]
  },
  {
   "cell_type": "code",
   "execution_count": 5,
   "id": "57450e9d",
   "metadata": {},
   "outputs": [],
   "source": [
    "import pandas as pd\n",
    "import numpy as np\n",
    "import matplotlib.pyplot as plt"
   ]
  },
  {
   "cell_type": "code",
   "execution_count": 1,
   "id": "0b37b19f",
   "metadata": {},
   "outputs": [
    {
     "name": "stdout",
     "output_type": "stream",
     "text": [
      "Note: you may need to restart the kernel to use updated packages.\n"
     ]
    },
    {
     "name": "stderr",
     "output_type": "stream",
     "text": [
      "WARNING: Retrying (Retry(total=4, connect=None, read=None, redirect=None, status=None)) after connection broken by 'NewConnectionError('<pip._vendor.urllib3.connection.HTTPSConnection object at 0x0000026BB4F7B2D0>: Failed to establish a new connection: [Errno 11001] getaddrinfo failed')': /simple/quarto/\n",
      "WARNING: Retrying (Retry(total=3, connect=None, read=None, redirect=None, status=None)) after connection broken by 'NewConnectionError('<pip._vendor.urllib3.connection.HTTPSConnection object at 0x0000026BB1B6A390>: Failed to establish a new connection: [Errno 11001] getaddrinfo failed')': /simple/quarto/\n",
      "WARNING: Retrying (Retry(total=2, connect=None, read=None, redirect=None, status=None)) after connection broken by 'NewConnectionError('<pip._vendor.urllib3.connection.HTTPSConnection object at 0x0000026BB4F63B10>: Failed to establish a new connection: [Errno 11001] getaddrinfo failed')': /simple/quarto/\n",
      "WARNING: Retrying (Retry(total=1, connect=None, read=None, redirect=None, status=None)) after connection broken by 'NewConnectionError('<pip._vendor.urllib3.connection.HTTPSConnection object at 0x0000026BB4F824D0>: Failed to establish a new connection: [Errno 11001] getaddrinfo failed')': /simple/quarto/\n",
      "WARNING: Retrying (Retry(total=0, connect=None, read=None, redirect=None, status=None)) after connection broken by 'NewConnectionError('<pip._vendor.urllib3.connection.HTTPSConnection object at 0x0000026BB4FA4350>: Failed to establish a new connection: [Errno 11001] getaddrinfo failed')': /simple/quarto/\n",
      "ERROR: Could not find a version that satisfies the requirement quarto (from versions: none)\n",
      "ERROR: No matching distribution found for quarto\n"
     ]
    }
   ],
   "source": [
    "pip install quarto"
   ]
  },
  {
   "cell_type": "code",
   "execution_count": 8,
   "id": "c94e8487",
   "metadata": {},
   "outputs": [
    {
     "data": {
      "text/html": [
       "<div>\n",
       "<style scoped>\n",
       "    .dataframe tbody tr th:only-of-type {\n",
       "        vertical-align: middle;\n",
       "    }\n",
       "\n",
       "    .dataframe tbody tr th {\n",
       "        vertical-align: top;\n",
       "    }\n",
       "\n",
       "    .dataframe thead th {\n",
       "        text-align: right;\n",
       "    }\n",
       "</style>\n",
       "<table border=\"1\" class=\"dataframe\">\n",
       "  <thead>\n",
       "    <tr style=\"text-align: right;\">\n",
       "      <th></th>\n",
       "      <th>user_id</th>\n",
       "      <th>date_served</th>\n",
       "      <th>marketing_channel</th>\n",
       "      <th>variant</th>\n",
       "      <th>converted</th>\n",
       "      <th>language_displayed</th>\n",
       "      <th>language_preferred</th>\n",
       "      <th>age_group</th>\n",
       "      <th>date_subscribed</th>\n",
       "      <th>date_canceled</th>\n",
       "      <th>subscribing_channel</th>\n",
       "      <th>is_retained</th>\n",
       "    </tr>\n",
       "  </thead>\n",
       "  <tbody>\n",
       "    <tr>\n",
       "      <th>0</th>\n",
       "      <td>a100000029</td>\n",
       "      <td>1/1/18</td>\n",
       "      <td>House Ads</td>\n",
       "      <td>personalization</td>\n",
       "      <td>True</td>\n",
       "      <td>English</td>\n",
       "      <td>English</td>\n",
       "      <td>0-18 years</td>\n",
       "      <td>1/1/18</td>\n",
       "      <td>NaN</td>\n",
       "      <td>House Ads</td>\n",
       "      <td>True</td>\n",
       "    </tr>\n",
       "    <tr>\n",
       "      <th>1</th>\n",
       "      <td>a100000030</td>\n",
       "      <td>1/1/18</td>\n",
       "      <td>House Ads</td>\n",
       "      <td>personalization</td>\n",
       "      <td>True</td>\n",
       "      <td>English</td>\n",
       "      <td>English</td>\n",
       "      <td>19-24 years</td>\n",
       "      <td>1/1/18</td>\n",
       "      <td>NaN</td>\n",
       "      <td>House Ads</td>\n",
       "      <td>True</td>\n",
       "    </tr>\n",
       "    <tr>\n",
       "      <th>2</th>\n",
       "      <td>a100000031</td>\n",
       "      <td>1/1/18</td>\n",
       "      <td>House Ads</td>\n",
       "      <td>personalization</td>\n",
       "      <td>True</td>\n",
       "      <td>English</td>\n",
       "      <td>English</td>\n",
       "      <td>24-30 years</td>\n",
       "      <td>1/1/18</td>\n",
       "      <td>NaN</td>\n",
       "      <td>House Ads</td>\n",
       "      <td>True</td>\n",
       "    </tr>\n",
       "    <tr>\n",
       "      <th>3</th>\n",
       "      <td>a100000032</td>\n",
       "      <td>1/1/18</td>\n",
       "      <td>House Ads</td>\n",
       "      <td>personalization</td>\n",
       "      <td>True</td>\n",
       "      <td>English</td>\n",
       "      <td>English</td>\n",
       "      <td>30-36 years</td>\n",
       "      <td>1/1/18</td>\n",
       "      <td>NaN</td>\n",
       "      <td>House Ads</td>\n",
       "      <td>True</td>\n",
       "    </tr>\n",
       "    <tr>\n",
       "      <th>4</th>\n",
       "      <td>a100000033</td>\n",
       "      <td>1/1/18</td>\n",
       "      <td>House Ads</td>\n",
       "      <td>personalization</td>\n",
       "      <td>True</td>\n",
       "      <td>English</td>\n",
       "      <td>English</td>\n",
       "      <td>36-45 years</td>\n",
       "      <td>1/1/18</td>\n",
       "      <td>NaN</td>\n",
       "      <td>House Ads</td>\n",
       "      <td>True</td>\n",
       "    </tr>\n",
       "    <tr>\n",
       "      <th>...</th>\n",
       "      <td>...</td>\n",
       "      <td>...</td>\n",
       "      <td>...</td>\n",
       "      <td>...</td>\n",
       "      <td>...</td>\n",
       "      <td>...</td>\n",
       "      <td>...</td>\n",
       "      <td>...</td>\n",
       "      <td>...</td>\n",
       "      <td>...</td>\n",
       "      <td>...</td>\n",
       "      <td>...</td>\n",
       "    </tr>\n",
       "    <tr>\n",
       "      <th>10032</th>\n",
       "      <td>a100007290</td>\n",
       "      <td>1/17/18</td>\n",
       "      <td>Email</td>\n",
       "      <td>control</td>\n",
       "      <td>True</td>\n",
       "      <td>German</td>\n",
       "      <td>German</td>\n",
       "      <td>45-55 years</td>\n",
       "      <td>1/17/18</td>\n",
       "      <td>1/24/18</td>\n",
       "      <td>Email</td>\n",
       "      <td>False</td>\n",
       "    </tr>\n",
       "    <tr>\n",
       "      <th>10033</th>\n",
       "      <td>a100007291</td>\n",
       "      <td>1/17/18</td>\n",
       "      <td>Email</td>\n",
       "      <td>control</td>\n",
       "      <td>True</td>\n",
       "      <td>German</td>\n",
       "      <td>German</td>\n",
       "      <td>55+ years</td>\n",
       "      <td>1/17/18</td>\n",
       "      <td>NaN</td>\n",
       "      <td>Email</td>\n",
       "      <td>True</td>\n",
       "    </tr>\n",
       "    <tr>\n",
       "      <th>10034</th>\n",
       "      <td>a100007292</td>\n",
       "      <td>1/5/18</td>\n",
       "      <td>Instagram</td>\n",
       "      <td>control</td>\n",
       "      <td>False</td>\n",
       "      <td>German</td>\n",
       "      <td>German</td>\n",
       "      <td>55+ years</td>\n",
       "      <td>1/17/18</td>\n",
       "      <td>NaN</td>\n",
       "      <td>Email</td>\n",
       "      <td>True</td>\n",
       "    </tr>\n",
       "    <tr>\n",
       "      <th>10035</th>\n",
       "      <td>a100007293</td>\n",
       "      <td>1/17/18</td>\n",
       "      <td>Email</td>\n",
       "      <td>control</td>\n",
       "      <td>True</td>\n",
       "      <td>German</td>\n",
       "      <td>German</td>\n",
       "      <td>0-18 years</td>\n",
       "      <td>1/17/18</td>\n",
       "      <td>NaN</td>\n",
       "      <td>Email</td>\n",
       "      <td>True</td>\n",
       "    </tr>\n",
       "    <tr>\n",
       "      <th>10036</th>\n",
       "      <td>a100007294</td>\n",
       "      <td>1/6/18</td>\n",
       "      <td>Facebook</td>\n",
       "      <td>control</td>\n",
       "      <td>False</td>\n",
       "      <td>German</td>\n",
       "      <td>German</td>\n",
       "      <td>0-18 years</td>\n",
       "      <td>1/17/18</td>\n",
       "      <td>NaN</td>\n",
       "      <td>Email</td>\n",
       "      <td>True</td>\n",
       "    </tr>\n",
       "  </tbody>\n",
       "</table>\n",
       "<p>10037 rows × 12 columns</p>\n",
       "</div>"
      ],
      "text/plain": [
       "          user_id date_served marketing_channel          variant converted  \\\n",
       "0      a100000029      1/1/18         House Ads  personalization      True   \n",
       "1      a100000030      1/1/18         House Ads  personalization      True   \n",
       "2      a100000031      1/1/18         House Ads  personalization      True   \n",
       "3      a100000032      1/1/18         House Ads  personalization      True   \n",
       "4      a100000033      1/1/18         House Ads  personalization      True   \n",
       "...           ...         ...               ...              ...       ...   \n",
       "10032  a100007290     1/17/18             Email          control      True   \n",
       "10033  a100007291     1/17/18             Email          control      True   \n",
       "10034  a100007292      1/5/18         Instagram          control     False   \n",
       "10035  a100007293     1/17/18             Email          control      True   \n",
       "10036  a100007294      1/6/18          Facebook          control     False   \n",
       "\n",
       "      language_displayed language_preferred    age_group date_subscribed  \\\n",
       "0                English            English   0-18 years          1/1/18   \n",
       "1                English            English  19-24 years          1/1/18   \n",
       "2                English            English  24-30 years          1/1/18   \n",
       "3                English            English  30-36 years          1/1/18   \n",
       "4                English            English  36-45 years          1/1/18   \n",
       "...                  ...                ...          ...             ...   \n",
       "10032             German             German  45-55 years         1/17/18   \n",
       "10033             German             German    55+ years         1/17/18   \n",
       "10034             German             German    55+ years         1/17/18   \n",
       "10035             German             German   0-18 years         1/17/18   \n",
       "10036             German             German   0-18 years         1/17/18   \n",
       "\n",
       "      date_canceled subscribing_channel is_retained  \n",
       "0               NaN           House Ads        True  \n",
       "1               NaN           House Ads        True  \n",
       "2               NaN           House Ads        True  \n",
       "3               NaN           House Ads        True  \n",
       "4               NaN           House Ads        True  \n",
       "...             ...                 ...         ...  \n",
       "10032       1/24/18               Email       False  \n",
       "10033           NaN               Email        True  \n",
       "10034           NaN               Email        True  \n",
       "10035           NaN               Email        True  \n",
       "10036           NaN               Email        True  \n",
       "\n",
       "[10037 rows x 12 columns]"
      ]
     },
     "execution_count": 8,
     "metadata": {},
     "output_type": "execute_result"
    }
   ],
   "source": [
    "marketing = pd.read_csv('marketing.csv')\n",
    "marketing"
   ]
  },
  {
   "cell_type": "code",
   "execution_count": null,
   "id": "55040a67",
   "metadata": {},
   "outputs": [],
   "source": [
    " # Inspecting data"
   ]
  },
  {
   "cell_type": "code",
   "execution_count": 9,
   "id": "57421a63",
   "metadata": {},
   "outputs": [
    {
     "name": "stdout",
     "output_type": "stream",
     "text": [
      "      user_id date_served marketing_channel          variant converted  \\\n",
      "0  a100000029      1/1/18         House Ads  personalization      True   \n",
      "1  a100000030      1/1/18         House Ads  personalization      True   \n",
      "2  a100000031      1/1/18         House Ads  personalization      True   \n",
      "3  a100000032      1/1/18         House Ads  personalization      True   \n",
      "4  a100000033      1/1/18         House Ads  personalization      True   \n",
      "\n",
      "  language_displayed language_preferred    age_group date_subscribed  \\\n",
      "0            English            English   0-18 years          1/1/18   \n",
      "1            English            English  19-24 years          1/1/18   \n",
      "2            English            English  24-30 years          1/1/18   \n",
      "3            English            English  30-36 years          1/1/18   \n",
      "4            English            English  36-45 years          1/1/18   \n",
      "\n",
      "  date_canceled subscribing_channel is_retained  \n",
      "0           NaN           House Ads        True  \n",
      "1           NaN           House Ads        True  \n",
      "2           NaN           House Ads        True  \n",
      "3           NaN           House Ads        True  \n",
      "4           NaN           House Ads        True  \n"
     ]
    }
   ],
   "source": [
    "print(marketing.head())"
   ]
  },
  {
   "cell_type": "code",
   "execution_count": null,
   "id": "c940df90",
   "metadata": {},
   "outputs": [],
   "source": [
    "# Summary statistics"
   ]
  },
  {
   "cell_type": "code",
   "execution_count": 10,
   "id": "bb72612f",
   "metadata": {},
   "outputs": [
    {
     "name": "stdout",
     "output_type": "stream",
     "text": [
      "           user_id date_served marketing_channel  variant converted  \\\n",
      "count        10037       10021             10022    10037     10022   \n",
      "unique        7309          31                 5        2         2   \n",
      "top     a100000882     1/15/18         House Ads  control     False   \n",
      "freq            12         789              4733     5091      8946   \n",
      "\n",
      "       language_displayed language_preferred    age_group date_subscribed  \\\n",
      "count               10037              10037        10037            1856   \n",
      "unique                  4                  4            7              31   \n",
      "top               English            English  19-24 years         1/16/18   \n",
      "freq                 9793               9275         1682             163   \n",
      "\n",
      "       date_canceled subscribing_channel is_retained  \n",
      "count            577                1856        1856  \n",
      "unique           115                   5           2  \n",
      "top           4/2/18           Instagram        True  \n",
      "freq              15                 600        1279  \n"
     ]
    }
   ],
   "source": [
    "print(marketing.describe())"
   ]
  },
  {
   "cell_type": "code",
   "execution_count": null,
   "id": "4794f7f1",
   "metadata": {},
   "outputs": [],
   "source": [
    "# Missing values & data types"
   ]
  },
  {
   "cell_type": "code",
   "execution_count": 11,
   "id": "9936f9f9",
   "metadata": {},
   "outputs": [
    {
     "name": "stdout",
     "output_type": "stream",
     "text": [
      "<class 'pandas.core.frame.DataFrame'>\n",
      "RangeIndex: 10037 entries, 0 to 10036\n",
      "Data columns (total 12 columns):\n",
      " #   Column               Non-Null Count  Dtype \n",
      "---  ------               --------------  ----- \n",
      " 0   user_id              10037 non-null  object\n",
      " 1   date_served          10021 non-null  object\n",
      " 2   marketing_channel    10022 non-null  object\n",
      " 3   variant              10037 non-null  object\n",
      " 4   converted            10022 non-null  object\n",
      " 5   language_displayed   10037 non-null  object\n",
      " 6   language_preferred   10037 non-null  object\n",
      " 7   age_group            10037 non-null  object\n",
      " 8   date_subscribed      1856 non-null   object\n",
      " 9   date_canceled        577 non-null    object\n",
      " 10  subscribing_channel  1856 non-null   object\n",
      " 11  is_retained          1856 non-null   object\n",
      "dtypes: object(12)\n",
      "memory usage: 941.1+ KB\n",
      "None\n"
     ]
    }
   ],
   "source": [
    "print(marketing.info())"
   ]
  },
  {
   "cell_type": "markdown",
   "id": "64364f5e",
   "metadata": {},
   "source": [
    "### data type of column "
   ]
  },
  {
   "cell_type": "code",
   "execution_count": null,
   "id": "3041e3c4",
   "metadata": {},
   "outputs": [],
   "source": [
    "# Print a data type of a single column"
   ]
  },
  {
   "cell_type": "code",
   "execution_count": 13,
   "id": "1d0430c6",
   "metadata": {},
   "outputs": [
    {
     "name": "stdout",
     "output_type": "stream",
     "text": [
      "object\n"
     ]
    }
   ],
   "source": [
    "print(marketing['converted'].dtype)"
   ]
  },
  {
   "cell_type": "markdown",
   "id": "d145a642",
   "metadata": {},
   "source": [
    "### Changing the data type of a column"
   ]
  },
  {
   "cell_type": "code",
   "execution_count": null,
   "id": "18365c99",
   "metadata": {},
   "outputs": [],
   "source": [
    "# Change the data type of a column"
   ]
  },
  {
   "cell_type": "code",
   "execution_count": 14,
   "id": "f4f69b5b",
   "metadata": {},
   "outputs": [
    {
     "name": "stdout",
     "output_type": "stream",
     "text": [
      "bool\n"
     ]
    }
   ],
   "source": [
    "marketing['converted'] = marketing['converted']\\\n",
    ".astype('bool')\n",
    "print(marketing['converted'].dtype)"
   ]
  },
  {
   "cell_type": "markdown",
   "id": "d4ed9711",
   "metadata": {},
   "source": [
    "### Creating new boolean columns"
   ]
  },
  {
   "cell_type": "code",
   "execution_count": 15,
   "id": "a480740f",
   "metadata": {},
   "outputs": [
    {
     "name": "stdout",
     "output_type": "stream",
     "text": [
      "0    True\n",
      "1    True\n",
      "2    True\n",
      "3    True\n",
      "4    True\n",
      "Name: is_house_ads, dtype: bool\n"
     ]
    }
   ],
   "source": [
    "marketing['is_house_ads'] = np.where(marketing['marketing_channel'] == 'House Ads',True, False)\n",
    "marketing['is_house_ads']\n",
    "print(marketing.is_house_ads.head(5))"
   ]
  },
  {
   "cell_type": "markdown",
   "id": "0c16254a",
   "metadata": {},
   "source": [
    "### Mapping values to existing columns"
   ]
  },
  {
   "cell_type": "code",
   "execution_count": 16,
   "id": "601bea55",
   "metadata": {},
   "outputs": [
    {
     "name": "stdout",
     "output_type": "stream",
     "text": [
      "0    House Ads\n",
      "1    House Ads\n",
      "2    House Ads\n",
      "3    House Ads\n",
      "4    House Ads\n",
      "Name: marketing_channel, dtype: object\n"
     ]
    }
   ],
   "source": [
    "print(marketing['marketing_channel'].head(5))"
   ]
  },
  {
   "cell_type": "code",
   "execution_count": 17,
   "id": "a4c71d9c",
   "metadata": {},
   "outputs": [],
   "source": [
    "channel_dict = {\"House Ads\": 1,\"Instagram\": 2,\"Facebook\": 3,\"Email\": 4,\"Push\": 5}"
   ]
  },
  {
   "cell_type": "code",
   "execution_count": 18,
   "id": "686ddd7a",
   "metadata": {},
   "outputs": [
    {
     "data": {
      "text/plain": [
       "0        1.0\n",
       "1        1.0\n",
       "2        1.0\n",
       "3        1.0\n",
       "4        1.0\n",
       "        ... \n",
       "10032    4.0\n",
       "10033    4.0\n",
       "10034    2.0\n",
       "10035    4.0\n",
       "10036    3.0\n",
       "Name: channel_code, Length: 10037, dtype: float64"
      ]
     },
     "execution_count": 18,
     "metadata": {},
     "output_type": "execute_result"
    }
   ],
   "source": [
    "marketing['channel_code'] = marketing['marketing_channel']\\\n",
    ".map(channel_dict)\n",
    "marketing['channel_code']"
   ]
  },
  {
   "cell_type": "markdown",
   "id": "b5b7223e",
   "metadata": {},
   "source": [
    "### Date columns"
   ]
  },
  {
   "cell_type": "code",
   "execution_count": null,
   "id": "a0e2a290",
   "metadata": {},
   "outputs": [],
   "source": [
    "# Read date columns using parse"
   ]
  },
  {
   "cell_type": "code",
   "execution_count": 19,
   "id": "e18fe951",
   "metadata": {},
   "outputs": [
    {
     "name": "stderr",
     "output_type": "stream",
     "text": [
      "C:\\Users\\Firmin Atchagako\\AppData\\Local\\Temp\\ipykernel_4188\\435519771.py:1: UserWarning: Could not infer format, so each element will be parsed individually, falling back to `dateutil`. To ensure parsing is consistent and as-expected, please specify a format.\n",
      "  marketing = pd.read_csv('marketing.csv',parse_dates=['date_served','date_subscribed','date_canceled'])\n",
      "C:\\Users\\Firmin Atchagako\\AppData\\Local\\Temp\\ipykernel_4188\\435519771.py:1: UserWarning: Could not infer format, so each element will be parsed individually, falling back to `dateutil`. To ensure parsing is consistent and as-expected, please specify a format.\n",
      "  marketing = pd.read_csv('marketing.csv',parse_dates=['date_served','date_subscribed','date_canceled'])\n",
      "C:\\Users\\Firmin Atchagako\\AppData\\Local\\Temp\\ipykernel_4188\\435519771.py:1: UserWarning: Could not infer format, so each element will be parsed individually, falling back to `dateutil`. To ensure parsing is consistent and as-expected, please specify a format.\n",
      "  marketing = pd.read_csv('marketing.csv',parse_dates=['date_served','date_subscribed','date_canceled'])\n"
     ]
    },
    {
     "data": {
      "text/html": [
       "<div>\n",
       "<style scoped>\n",
       "    .dataframe tbody tr th:only-of-type {\n",
       "        vertical-align: middle;\n",
       "    }\n",
       "\n",
       "    .dataframe tbody tr th {\n",
       "        vertical-align: top;\n",
       "    }\n",
       "\n",
       "    .dataframe thead th {\n",
       "        text-align: right;\n",
       "    }\n",
       "</style>\n",
       "<table border=\"1\" class=\"dataframe\">\n",
       "  <thead>\n",
       "    <tr style=\"text-align: right;\">\n",
       "      <th></th>\n",
       "      <th>user_id</th>\n",
       "      <th>date_served</th>\n",
       "      <th>marketing_channel</th>\n",
       "      <th>variant</th>\n",
       "      <th>converted</th>\n",
       "      <th>language_displayed</th>\n",
       "      <th>language_preferred</th>\n",
       "      <th>age_group</th>\n",
       "      <th>date_subscribed</th>\n",
       "      <th>date_canceled</th>\n",
       "      <th>subscribing_channel</th>\n",
       "      <th>is_retained</th>\n",
       "    </tr>\n",
       "  </thead>\n",
       "  <tbody>\n",
       "    <tr>\n",
       "      <th>0</th>\n",
       "      <td>a100000029</td>\n",
       "      <td>2018-01-01</td>\n",
       "      <td>House Ads</td>\n",
       "      <td>personalization</td>\n",
       "      <td>True</td>\n",
       "      <td>English</td>\n",
       "      <td>English</td>\n",
       "      <td>0-18 years</td>\n",
       "      <td>2018-01-01</td>\n",
       "      <td>NaT</td>\n",
       "      <td>House Ads</td>\n",
       "      <td>True</td>\n",
       "    </tr>\n",
       "    <tr>\n",
       "      <th>1</th>\n",
       "      <td>a100000030</td>\n",
       "      <td>2018-01-01</td>\n",
       "      <td>House Ads</td>\n",
       "      <td>personalization</td>\n",
       "      <td>True</td>\n",
       "      <td>English</td>\n",
       "      <td>English</td>\n",
       "      <td>19-24 years</td>\n",
       "      <td>2018-01-01</td>\n",
       "      <td>NaT</td>\n",
       "      <td>House Ads</td>\n",
       "      <td>True</td>\n",
       "    </tr>\n",
       "    <tr>\n",
       "      <th>2</th>\n",
       "      <td>a100000031</td>\n",
       "      <td>2018-01-01</td>\n",
       "      <td>House Ads</td>\n",
       "      <td>personalization</td>\n",
       "      <td>True</td>\n",
       "      <td>English</td>\n",
       "      <td>English</td>\n",
       "      <td>24-30 years</td>\n",
       "      <td>2018-01-01</td>\n",
       "      <td>NaT</td>\n",
       "      <td>House Ads</td>\n",
       "      <td>True</td>\n",
       "    </tr>\n",
       "    <tr>\n",
       "      <th>3</th>\n",
       "      <td>a100000032</td>\n",
       "      <td>2018-01-01</td>\n",
       "      <td>House Ads</td>\n",
       "      <td>personalization</td>\n",
       "      <td>True</td>\n",
       "      <td>English</td>\n",
       "      <td>English</td>\n",
       "      <td>30-36 years</td>\n",
       "      <td>2018-01-01</td>\n",
       "      <td>NaT</td>\n",
       "      <td>House Ads</td>\n",
       "      <td>True</td>\n",
       "    </tr>\n",
       "    <tr>\n",
       "      <th>4</th>\n",
       "      <td>a100000033</td>\n",
       "      <td>2018-01-01</td>\n",
       "      <td>House Ads</td>\n",
       "      <td>personalization</td>\n",
       "      <td>True</td>\n",
       "      <td>English</td>\n",
       "      <td>English</td>\n",
       "      <td>36-45 years</td>\n",
       "      <td>2018-01-01</td>\n",
       "      <td>NaT</td>\n",
       "      <td>House Ads</td>\n",
       "      <td>True</td>\n",
       "    </tr>\n",
       "    <tr>\n",
       "      <th>...</th>\n",
       "      <td>...</td>\n",
       "      <td>...</td>\n",
       "      <td>...</td>\n",
       "      <td>...</td>\n",
       "      <td>...</td>\n",
       "      <td>...</td>\n",
       "      <td>...</td>\n",
       "      <td>...</td>\n",
       "      <td>...</td>\n",
       "      <td>...</td>\n",
       "      <td>...</td>\n",
       "      <td>...</td>\n",
       "    </tr>\n",
       "    <tr>\n",
       "      <th>10032</th>\n",
       "      <td>a100007290</td>\n",
       "      <td>2018-01-17</td>\n",
       "      <td>Email</td>\n",
       "      <td>control</td>\n",
       "      <td>True</td>\n",
       "      <td>German</td>\n",
       "      <td>German</td>\n",
       "      <td>45-55 years</td>\n",
       "      <td>2018-01-17</td>\n",
       "      <td>2018-01-24</td>\n",
       "      <td>Email</td>\n",
       "      <td>False</td>\n",
       "    </tr>\n",
       "    <tr>\n",
       "      <th>10033</th>\n",
       "      <td>a100007291</td>\n",
       "      <td>2018-01-17</td>\n",
       "      <td>Email</td>\n",
       "      <td>control</td>\n",
       "      <td>True</td>\n",
       "      <td>German</td>\n",
       "      <td>German</td>\n",
       "      <td>55+ years</td>\n",
       "      <td>2018-01-17</td>\n",
       "      <td>NaT</td>\n",
       "      <td>Email</td>\n",
       "      <td>True</td>\n",
       "    </tr>\n",
       "    <tr>\n",
       "      <th>10034</th>\n",
       "      <td>a100007292</td>\n",
       "      <td>2018-01-05</td>\n",
       "      <td>Instagram</td>\n",
       "      <td>control</td>\n",
       "      <td>False</td>\n",
       "      <td>German</td>\n",
       "      <td>German</td>\n",
       "      <td>55+ years</td>\n",
       "      <td>2018-01-17</td>\n",
       "      <td>NaT</td>\n",
       "      <td>Email</td>\n",
       "      <td>True</td>\n",
       "    </tr>\n",
       "    <tr>\n",
       "      <th>10035</th>\n",
       "      <td>a100007293</td>\n",
       "      <td>2018-01-17</td>\n",
       "      <td>Email</td>\n",
       "      <td>control</td>\n",
       "      <td>True</td>\n",
       "      <td>German</td>\n",
       "      <td>German</td>\n",
       "      <td>0-18 years</td>\n",
       "      <td>2018-01-17</td>\n",
       "      <td>NaT</td>\n",
       "      <td>Email</td>\n",
       "      <td>True</td>\n",
       "    </tr>\n",
       "    <tr>\n",
       "      <th>10036</th>\n",
       "      <td>a100007294</td>\n",
       "      <td>2018-01-06</td>\n",
       "      <td>Facebook</td>\n",
       "      <td>control</td>\n",
       "      <td>False</td>\n",
       "      <td>German</td>\n",
       "      <td>German</td>\n",
       "      <td>0-18 years</td>\n",
       "      <td>2018-01-17</td>\n",
       "      <td>NaT</td>\n",
       "      <td>Email</td>\n",
       "      <td>True</td>\n",
       "    </tr>\n",
       "  </tbody>\n",
       "</table>\n",
       "<p>10037 rows × 12 columns</p>\n",
       "</div>"
      ],
      "text/plain": [
       "          user_id date_served marketing_channel          variant converted  \\\n",
       "0      a100000029  2018-01-01         House Ads  personalization      True   \n",
       "1      a100000030  2018-01-01         House Ads  personalization      True   \n",
       "2      a100000031  2018-01-01         House Ads  personalization      True   \n",
       "3      a100000032  2018-01-01         House Ads  personalization      True   \n",
       "4      a100000033  2018-01-01         House Ads  personalization      True   \n",
       "...           ...         ...               ...              ...       ...   \n",
       "10032  a100007290  2018-01-17             Email          control      True   \n",
       "10033  a100007291  2018-01-17             Email          control      True   \n",
       "10034  a100007292  2018-01-05         Instagram          control     False   \n",
       "10035  a100007293  2018-01-17             Email          control      True   \n",
       "10036  a100007294  2018-01-06          Facebook          control     False   \n",
       "\n",
       "      language_displayed language_preferred    age_group date_subscribed  \\\n",
       "0                English            English   0-18 years      2018-01-01   \n",
       "1                English            English  19-24 years      2018-01-01   \n",
       "2                English            English  24-30 years      2018-01-01   \n",
       "3                English            English  30-36 years      2018-01-01   \n",
       "4                English            English  36-45 years      2018-01-01   \n",
       "...                  ...                ...          ...             ...   \n",
       "10032             German             German  45-55 years      2018-01-17   \n",
       "10033             German             German    55+ years      2018-01-17   \n",
       "10034             German             German    55+ years      2018-01-17   \n",
       "10035             German             German   0-18 years      2018-01-17   \n",
       "10036             German             German   0-18 years      2018-01-17   \n",
       "\n",
       "      date_canceled subscribing_channel is_retained  \n",
       "0               NaT           House Ads        True  \n",
       "1               NaT           House Ads        True  \n",
       "2               NaT           House Ads        True  \n",
       "3               NaT           House Ads        True  \n",
       "4               NaT           House Ads        True  \n",
       "...             ...                 ...         ...  \n",
       "10032    2018-01-24               Email       False  \n",
       "10033           NaT               Email        True  \n",
       "10034           NaT               Email        True  \n",
       "10035           NaT               Email        True  \n",
       "10036           NaT               Email        True  \n",
       "\n",
       "[10037 rows x 12 columns]"
      ]
     },
     "execution_count": 19,
     "metadata": {},
     "output_type": "execute_result"
    }
   ],
   "source": [
    "marketing = pd.read_csv('marketing.csv',parse_dates=['date_served','date_subscribed','date_canceled'])\n",
    "marketing"
   ]
  },
  {
   "cell_type": "code",
   "execution_count": null,
   "id": "f9096431",
   "metadata": {},
   "outputs": [],
   "source": [
    "# Convert already existing column to datetime column"
   ]
  },
  {
   "cell_type": "code",
   "execution_count": 20,
   "id": "5d7c6edd",
   "metadata": {},
   "outputs": [
    {
     "data": {
      "text/plain": [
       "0       2018-01-01\n",
       "1       2018-01-01\n",
       "2       2018-01-01\n",
       "3       2018-01-01\n",
       "4       2018-01-01\n",
       "           ...    \n",
       "10032   2018-01-17\n",
       "10033   2018-01-17\n",
       "10034   2018-01-05\n",
       "10035   2018-01-17\n",
       "10036   2018-01-06\n",
       "Name: date_served, Length: 10037, dtype: datetime64[ns]"
      ]
     },
     "execution_count": 20,
     "metadata": {},
     "output_type": "execute_result"
    }
   ],
   "source": [
    "marketing['date_served'] = pd.to_datetime(marketing['date_served'])\n",
    "marketing['date_served']"
   ]
  },
  {
   "cell_type": "markdown",
   "id": "c5d6048f",
   "metadata": {},
   "source": [
    "### Initial Exploratory Analysis"
   ]
  },
  {
   "cell_type": "code",
   "execution_count": null,
   "id": "7d0e2d72",
   "metadata": {},
   "outputs": [],
   "source": [
    "# Aggregate unique users that see ads by date"
   ]
  },
  {
   "cell_type": "code",
   "execution_count": 21,
   "id": "cc920f27",
   "metadata": {},
   "outputs": [
    {
     "name": "stdout",
     "output_type": "stream",
     "text": [
      "date_served\n",
      "2018-01-01    362\n",
      "2018-01-02    374\n",
      "2018-01-03    348\n",
      "2018-01-04    323\n",
      "2018-01-05    319\n",
      "2018-01-06    308\n",
      "2018-01-07    275\n",
      "2018-01-08    312\n",
      "2018-01-09    312\n",
      "2018-01-10    337\n",
      "2018-01-11    310\n",
      "2018-01-12    301\n",
      "2018-01-13    306\n",
      "2018-01-14    305\n",
      "2018-01-15    767\n",
      "2018-01-16    388\n",
      "2018-01-17    369\n",
      "2018-01-18    318\n",
      "2018-01-19    305\n",
      "2018-01-20    311\n",
      "2018-01-21    229\n",
      "2018-01-22    178\n",
      "2018-01-23    172\n",
      "2018-01-24    190\n",
      "2018-01-25    184\n",
      "2018-01-26    222\n",
      "2018-01-27    320\n",
      "2018-01-28    320\n",
      "2018-01-29    319\n",
      "2018-01-30    317\n",
      "2018-01-31    340\n",
      "Name: user_id, dtype: int64\n"
     ]
    }
   ],
   "source": [
    "daily_users = marketing.groupby(['date_served'])\\\n",
    "['user_id'].nunique()\n",
    "print(daily_users)"
   ]
  },
  {
   "cell_type": "markdown",
   "id": "f0894e12",
   "metadata": {},
   "source": [
    "### Visualizing results"
   ]
  },
  {
   "cell_type": "code",
   "execution_count": 22,
   "id": "4d552025",
   "metadata": {},
   "outputs": [
    {
     "data": {
      "image/png": "[encoded data removed]",
      "text/plain": [
       "<Figure size 640x480 with 1 Axes>"
      ]
     },
     "metadata": {},
     "output_type": "display_data"
    }
   ],
   "source": [
    "# Plot\n",
    "daily_users.plot()\n",
    "# Annotate\n",
    "plt.title('Daily number of users who see ads')\n",
    "plt.xlabel('Date')\n",
    "plt.ylabel('Number of users')\n",
    "plt.xticks(rotation = 45)\n",
    "plt.show()\n"
   ]
  },
  {
   "cell_type": "markdown",
   "id": "016f1e5b",
   "metadata": {},
   "source": [
    "### Chapitre 2 : Introduction to common marketing metrics"
   ]
  },
  {
   "cell_type": "code",
   "execution_count": null,
   "id": "b4874810",
   "metadata": {},
   "outputs": [],
   "source": [
    "# Conversion rate formula \n",
    "## Conversion rate = Number of people who convert/Total number of people we marketed to\n"
   ]
  },
  {
   "cell_type": "code",
   "execution_count": null,
   "id": "fe92df64",
   "metadata": {},
   "outputs": [],
   "source": [
    "# Calculating conversion rate using pandas"
   ]
  },
  {
   "cell_type": "code",
   "execution_count": 23,
   "id": "0f16f798",
   "metadata": {},
   "outputs": [
    {
     "data": {
      "text/plain": [
       "7309"
      ]
     },
     "execution_count": 23,
     "metadata": {},
     "output_type": "execute_result"
    }
   ],
   "source": [
    "subscribers = marketing[marketing['converted'] == True]\\\n",
    "['user_id'].nunique()\n",
    "subscribers\n",
    "total = marketing['user_id'].nunique()\n",
    "total"
   ]
  },
  {
   "cell_type": "code",
   "execution_count": 19,
   "id": "3e041bb6",
   "metadata": {},
   "outputs": [
    {
     "name": "stdout",
     "output_type": "stream",
     "text": [
      "13.89 %\n"
     ]
    }
   ],
   "source": [
    "conv_rate = subscribers/total\n",
    "conv_rate\n",
    "print(round(conv_rate*100, 2),'%')"
   ]
  },
  {
   "cell_type": "code",
   "execution_count": null,
   "id": "1dd97c27",
   "metadata": {},
   "outputs": [],
   "source": [
    "# Retention rate formula\n",
    "## Retention rate = Number of people who remain subscribed/Total number of people who converted"
   ]
  },
  {
   "cell_type": "code",
   "execution_count": null,
   "id": "dc211773",
   "metadata": {},
   "outputs": [],
   "source": [
    "# Calculating retention rate"
   ]
  },
  {
   "cell_type": "code",
   "execution_count": 20,
   "id": "cc100e46",
   "metadata": {},
   "outputs": [
    {
     "name": "stdout",
     "output_type": "stream",
     "text": [
      "66.8 %\n"
     ]
    }
   ],
   "source": [
    "retained = marketing[marketing['is_retained'] == True]\\\n",
    "['user_id'].nunique()\n",
    "subscribers = marketing[marketing['converted'] == True]\\\n",
    "['user_id'].nunique()\n",
    "retention = retained/subscribers\n",
    "print(round(retention*100, 2),'%')"
   ]
  },
  {
   "cell_type": "markdown",
   "id": "197184f0",
   "metadata": {},
   "source": [
    "### Customer segmentation"
   ]
  },
  {
   "cell_type": "code",
   "execution_count": null,
   "id": "20f408db",
   "metadata": {},
   "outputs": [],
   "source": [
    "# # Subset to include only House Ads"
   ]
  },
  {
   "cell_type": "code",
   "execution_count": 24,
   "id": "1403c028",
   "metadata": {},
   "outputs": [
    {
     "data": {
      "text/html": [
       "<div>\n",
       "<style scoped>\n",
       "    .dataframe tbody tr th:only-of-type {\n",
       "        vertical-align: middle;\n",
       "    }\n",
       "\n",
       "    .dataframe tbody tr th {\n",
       "        vertical-align: top;\n",
       "    }\n",
       "\n",
       "    .dataframe thead th {\n",
       "        text-align: right;\n",
       "    }\n",
       "</style>\n",
       "<table border=\"1\" class=\"dataframe\">\n",
       "  <thead>\n",
       "    <tr style=\"text-align: right;\">\n",
       "      <th></th>\n",
       "      <th>user_id</th>\n",
       "      <th>date_served</th>\n",
       "      <th>marketing_channel</th>\n",
       "      <th>variant</th>\n",
       "      <th>converted</th>\n",
       "      <th>language_displayed</th>\n",
       "      <th>language_preferred</th>\n",
       "      <th>age_group</th>\n",
       "      <th>date_subscribed</th>\n",
       "      <th>date_canceled</th>\n",
       "      <th>subscribing_channel</th>\n",
       "      <th>is_retained</th>\n",
       "    </tr>\n",
       "  </thead>\n",
       "  <tbody>\n",
       "    <tr>\n",
       "      <th>0</th>\n",
       "      <td>a100000029</td>\n",
       "      <td>2018-01-01</td>\n",
       "      <td>House Ads</td>\n",
       "      <td>personalization</td>\n",
       "      <td>True</td>\n",
       "      <td>English</td>\n",
       "      <td>English</td>\n",
       "      <td>0-18 years</td>\n",
       "      <td>2018-01-01</td>\n",
       "      <td>NaT</td>\n",
       "      <td>House Ads</td>\n",
       "      <td>True</td>\n",
       "    </tr>\n",
       "    <tr>\n",
       "      <th>1</th>\n",
       "      <td>a100000030</td>\n",
       "      <td>2018-01-01</td>\n",
       "      <td>House Ads</td>\n",
       "      <td>personalization</td>\n",
       "      <td>True</td>\n",
       "      <td>English</td>\n",
       "      <td>English</td>\n",
       "      <td>19-24 years</td>\n",
       "      <td>2018-01-01</td>\n",
       "      <td>NaT</td>\n",
       "      <td>House Ads</td>\n",
       "      <td>True</td>\n",
       "    </tr>\n",
       "    <tr>\n",
       "      <th>2</th>\n",
       "      <td>a100000031</td>\n",
       "      <td>2018-01-01</td>\n",
       "      <td>House Ads</td>\n",
       "      <td>personalization</td>\n",
       "      <td>True</td>\n",
       "      <td>English</td>\n",
       "      <td>English</td>\n",
       "      <td>24-30 years</td>\n",
       "      <td>2018-01-01</td>\n",
       "      <td>NaT</td>\n",
       "      <td>House Ads</td>\n",
       "      <td>True</td>\n",
       "    </tr>\n",
       "    <tr>\n",
       "      <th>3</th>\n",
       "      <td>a100000032</td>\n",
       "      <td>2018-01-01</td>\n",
       "      <td>House Ads</td>\n",
       "      <td>personalization</td>\n",
       "      <td>True</td>\n",
       "      <td>English</td>\n",
       "      <td>English</td>\n",
       "      <td>30-36 years</td>\n",
       "      <td>2018-01-01</td>\n",
       "      <td>NaT</td>\n",
       "      <td>House Ads</td>\n",
       "      <td>True</td>\n",
       "    </tr>\n",
       "    <tr>\n",
       "      <th>4</th>\n",
       "      <td>a100000033</td>\n",
       "      <td>2018-01-01</td>\n",
       "      <td>House Ads</td>\n",
       "      <td>personalization</td>\n",
       "      <td>True</td>\n",
       "      <td>English</td>\n",
       "      <td>English</td>\n",
       "      <td>36-45 years</td>\n",
       "      <td>2018-01-01</td>\n",
       "      <td>NaT</td>\n",
       "      <td>House Ads</td>\n",
       "      <td>True</td>\n",
       "    </tr>\n",
       "    <tr>\n",
       "      <th>...</th>\n",
       "      <td>...</td>\n",
       "      <td>...</td>\n",
       "      <td>...</td>\n",
       "      <td>...</td>\n",
       "      <td>...</td>\n",
       "      <td>...</td>\n",
       "      <td>...</td>\n",
       "      <td>...</td>\n",
       "      <td>...</td>\n",
       "      <td>...</td>\n",
       "      <td>...</td>\n",
       "      <td>...</td>\n",
       "    </tr>\n",
       "    <tr>\n",
       "      <th>349</th>\n",
       "      <td>a100000514</td>\n",
       "      <td>2018-01-26</td>\n",
       "      <td>House Ads</td>\n",
       "      <td>personalization</td>\n",
       "      <td>True</td>\n",
       "      <td>English</td>\n",
       "      <td>English</td>\n",
       "      <td>19-24 years</td>\n",
       "      <td>2018-01-26</td>\n",
       "      <td>NaT</td>\n",
       "      <td>House Ads</td>\n",
       "      <td>True</td>\n",
       "    </tr>\n",
       "    <tr>\n",
       "      <th>350</th>\n",
       "      <td>a100000515</td>\n",
       "      <td>2018-01-27</td>\n",
       "      <td>House Ads</td>\n",
       "      <td>personalization</td>\n",
       "      <td>True</td>\n",
       "      <td>English</td>\n",
       "      <td>English</td>\n",
       "      <td>24-30 years</td>\n",
       "      <td>2018-01-27</td>\n",
       "      <td>NaT</td>\n",
       "      <td>House Ads</td>\n",
       "      <td>True</td>\n",
       "    </tr>\n",
       "    <tr>\n",
       "      <th>351</th>\n",
       "      <td>a100000523</td>\n",
       "      <td>2018-01-28</td>\n",
       "      <td>House Ads</td>\n",
       "      <td>personalization</td>\n",
       "      <td>True</td>\n",
       "      <td>English</td>\n",
       "      <td>English</td>\n",
       "      <td>0-18 years</td>\n",
       "      <td>2018-01-28</td>\n",
       "      <td>NaT</td>\n",
       "      <td>House Ads</td>\n",
       "      <td>True</td>\n",
       "    </tr>\n",
       "    <tr>\n",
       "      <th>352</th>\n",
       "      <td>a100000524</td>\n",
       "      <td>2018-01-30</td>\n",
       "      <td>House Ads</td>\n",
       "      <td>personalization</td>\n",
       "      <td>True</td>\n",
       "      <td>English</td>\n",
       "      <td>Spanish</td>\n",
       "      <td>19-24 years</td>\n",
       "      <td>2018-01-30</td>\n",
       "      <td>NaT</td>\n",
       "      <td>House Ads</td>\n",
       "      <td>True</td>\n",
       "    </tr>\n",
       "    <tr>\n",
       "      <th>353</th>\n",
       "      <td>a100000525</td>\n",
       "      <td>2018-01-31</td>\n",
       "      <td>House Ads</td>\n",
       "      <td>personalization</td>\n",
       "      <td>True</td>\n",
       "      <td>English</td>\n",
       "      <td>English</td>\n",
       "      <td>24-30 years</td>\n",
       "      <td>2018-01-31</td>\n",
       "      <td>NaT</td>\n",
       "      <td>House Ads</td>\n",
       "      <td>True</td>\n",
       "    </tr>\n",
       "  </tbody>\n",
       "</table>\n",
       "<p>354 rows × 12 columns</p>\n",
       "</div>"
      ],
      "text/plain": [
       "        user_id date_served marketing_channel          variant converted  \\\n",
       "0    a100000029  2018-01-01         House Ads  personalization      True   \n",
       "1    a100000030  2018-01-01         House Ads  personalization      True   \n",
       "2    a100000031  2018-01-01         House Ads  personalization      True   \n",
       "3    a100000032  2018-01-01         House Ads  personalization      True   \n",
       "4    a100000033  2018-01-01         House Ads  personalization      True   \n",
       "..          ...         ...               ...              ...       ...   \n",
       "349  a100000514  2018-01-26         House Ads  personalization      True   \n",
       "350  a100000515  2018-01-27         House Ads  personalization      True   \n",
       "351  a100000523  2018-01-28         House Ads  personalization      True   \n",
       "352  a100000524  2018-01-30         House Ads  personalization      True   \n",
       "353  a100000525  2018-01-31         House Ads  personalization      True   \n",
       "\n",
       "    language_displayed language_preferred    age_group date_subscribed  \\\n",
       "0              English            English   0-18 years      2018-01-01   \n",
       "1              English            English  19-24 years      2018-01-01   \n",
       "2              English            English  24-30 years      2018-01-01   \n",
       "3              English            English  30-36 years      2018-01-01   \n",
       "4              English            English  36-45 years      2018-01-01   \n",
       "..                 ...                ...          ...             ...   \n",
       "349            English            English  19-24 years      2018-01-26   \n",
       "350            English            English  24-30 years      2018-01-27   \n",
       "351            English            English   0-18 years      2018-01-28   \n",
       "352            English            Spanish  19-24 years      2018-01-30   \n",
       "353            English            English  24-30 years      2018-01-31   \n",
       "\n",
       "    date_canceled subscribing_channel is_retained  \n",
       "0             NaT           House Ads        True  \n",
       "1             NaT           House Ads        True  \n",
       "2             NaT           House Ads        True  \n",
       "3             NaT           House Ads        True  \n",
       "4             NaT           House Ads        True  \n",
       "..            ...                 ...         ...  \n",
       "349           NaT           House Ads        True  \n",
       "350           NaT           House Ads        True  \n",
       "351           NaT           House Ads        True  \n",
       "352           NaT           House Ads        True  \n",
       "353           NaT           House Ads        True  \n",
       "\n",
       "[354 rows x 12 columns]"
      ]
     },
     "execution_count": 24,
     "metadata": {},
     "output_type": "execute_result"
    }
   ],
   "source": [
    "house_ads = marketing\\\n",
    "[marketing['subscribing_channel'] == 'House Ads']\n",
    "house_ads"
   ]
  },
  {
   "cell_type": "code",
   "execution_count": 25,
   "id": "c077d52d",
   "metadata": {},
   "outputs": [
    {
     "data": {
      "text/plain": [
       "173"
      ]
     },
     "execution_count": 25,
     "metadata": {},
     "output_type": "execute_result"
    }
   ],
   "source": [
    "retained = house_ads[house_ads['is_retained'] == True]\\\n",
    "['user_id'].nunique()\n",
    "retained"
   ]
  },
  {
   "cell_type": "code",
   "execution_count": 26,
   "id": "62941825",
   "metadata": {},
   "outputs": [
    {
     "data": {
      "text/plain": [
       "298"
      ]
     },
     "execution_count": 26,
     "metadata": {},
     "output_type": "execute_result"
    }
   ],
   "source": [
    "subscribers = house_ads[house_ads['converted'] == True]\\\n",
    "['user_id'].nunique()\n",
    "subscribers"
   ]
  },
  {
   "cell_type": "code",
   "execution_count": 26,
   "id": "746807fb",
   "metadata": {},
   "outputs": [
    {
     "name": "stdout",
     "output_type": "stream",
     "text": [
      "17.04 %\n"
     ]
    }
   ],
   "source": [
    "retention_rate = retained/subscribers\n",
    "print(round(retention_rate*100,2),'%')"
   ]
  },
  {
   "cell_type": "code",
   "execution_count": 27,
   "id": "599b5352",
   "metadata": {},
   "outputs": [
    {
     "name": "stdout",
     "output_type": "stream",
     "text": [
      "subscribing_channel\n",
      "Email        141\n",
      "Facebook     152\n",
      "House Ads    173\n",
      "Instagram    158\n",
      "Push          54\n",
      "Name: user_id, dtype: int64\n"
     ]
    }
   ],
   "source": [
    "retained = marketing[marketing['is_retained'] == True]\\\n",
    ".groupby(['subscribing_channel'])\\\n",
    "['user_id'].nunique()\n",
    "print(retained)"
   ]
  },
  {
   "cell_type": "code",
   "execution_count": null,
   "id": "dae6651d",
   "metadata": {},
   "outputs": [],
   "source": [
    "# Group by subscribing_channel and calculate subscribers"
   ]
  },
  {
   "cell_type": "code",
   "execution_count": 28,
   "id": "992466c6",
   "metadata": {},
   "outputs": [
    {
     "name": "stdout",
     "output_type": "stream",
     "text": [
      "subscribing_channel\n",
      "Email        161\n",
      "Facebook     221\n",
      "House Ads    298\n",
      "Instagram    232\n",
      "Push          77\n",
      "Name: user_id, dtype: int64\n"
     ]
    }
   ],
   "source": [
    "subscribers = marketing[marketing['converted'] == True]\\\n",
    ".groupby(['subscribing_channel'])\\\n",
    "['user_id'].nunique()\n",
    "print(subscribers)"
   ]
  },
  {
   "cell_type": "markdown",
   "id": "d4b8398a",
   "metadata": {},
   "source": [
    "### Segmenting results"
   ]
  },
  {
   "cell_type": "code",
   "execution_count": 29,
   "id": "4432a82a",
   "metadata": {},
   "outputs": [
    {
     "name": "stdout",
     "output_type": "stream",
     "text": [
      "subscribing_channel\n",
      "Email        87.577640\n",
      "Facebook     68.778281\n",
      "House Ads    58.053691\n",
      "Instagram    68.103448\n",
      "Push         70.129870\n",
      "Name: user_id, dtype: float64\n"
     ]
    }
   ],
   "source": [
    "# Calculate the retention rate across the DataFrame\n",
    "\n",
    "channel_retention_rate = (retained/subscribers)*100\n",
    "print(channel_retention_rate)"
   ]
  },
  {
   "cell_type": "markdown",
   "id": "cd9f0223",
   "metadata": {},
   "source": [
    "### Plotting campaign results"
   ]
  },
  {
   "cell_type": "code",
   "execution_count": 30,
   "id": "8d380a86",
   "metadata": {},
   "outputs": [
    {
     "data": {
      "image/png": "[encoded data removed]",
      "text/plain": [
       "<Figure size 640x480 with 1 Axes>"
      ]
     },
     "metadata": {},
     "output_type": "display_data"
    }
   ],
   "source": [
    "# Create a bar chart using channel retention DataFrame\n",
    "channel_retention_rate.plot(kind = 'bar')\n",
    "# Add a title and x and y-axis labels\n",
    "plt.title('Conversion rate by channel\\n', size = 16)\n",
    "plt.xlabel('marketing channel', size = 14)\n",
    "plt.ylabel('channel retention_rate (%)'\n",
    ", size = 14)\n",
    "# Display the plot\n",
    "plt.show()"
   ]
  },
  {
   "cell_type": "code",
   "execution_count": 40,
   "id": "e8a1df12",
   "metadata": {},
   "outputs": [],
   "source": [
    "# Grouping by multiple columns"
   ]
  },
  {
   "cell_type": "code",
   "execution_count": 31,
   "id": "618531b3",
   "metadata": {},
   "outputs": [
    {
     "name": "stdout",
     "output_type": "stream",
     "text": [
      "date_served  language_preferred\n",
      "2018-01-01   Arabic                  4\n",
      "             English               355\n",
      "             German                  5\n",
      "             Spanish                11\n",
      "2018-01-02   Arabic                  4\n",
      "Name: user_id, dtype: int64\n"
     ]
    }
   ],
   "source": [
    "language = marketing.groupby(['date_served','language_preferred'])\\\n",
    "['user_id'].count()\n",
    "print(language.head())"
   ]
  },
  {
   "cell_type": "code",
   "execution_count": null,
   "id": "f82afc37",
   "metadata": {},
   "outputs": [],
   "source": [
    "# Unstacking after groupby"
   ]
  },
  {
   "cell_type": "code",
   "execution_count": 42,
   "id": "a972553b",
   "metadata": {},
   "outputs": [
    {
     "name": "stdout",
     "output_type": "stream",
     "text": [
      "language_preferred  Arabic  English  German  Spanish\n",
      "date_served                                         \n",
      "2018-01-01             4.0    355.0     5.0     11.0\n",
      "2018-01-02             4.0    397.0     6.0     10.0\n",
      "2018-01-03             3.0    374.0     3.0      8.0\n",
      "2018-01-04             2.0    318.0     2.0     14.0\n",
      "2018-01-05             1.0    314.0     2.0     14.0\n"
     ]
    }
   ],
   "source": [
    "language = pd.DataFrame(language.unstack(level=1))\n",
    "print(language.head())"
   ]
  },
  {
   "cell_type": "code",
   "execution_count": 32,
   "id": "be20c1e6",
   "metadata": {},
   "outputs": [
    {
     "ename": "AttributeError",
     "evalue": "'Series' object has no attribute 'columns'",
     "output_type": "error",
     "traceback": [
      "\u001b[1;31m---------------------------------------------------------------------------\u001b[0m",
      "\u001b[1;31mAttributeError\u001b[0m                            Traceback (most recent call last)",
      "\u001b[1;32m~\\AppData\\Local\\Temp\\ipykernel_4188\\1943141588.py\u001b[0m in \u001b[0;36m?\u001b[1;34m()\u001b[0m\n\u001b[0;32m      3\u001b[0m \u001b[0mplt\u001b[0m\u001b[1;33m.\u001b[0m\u001b[0mxlabel\u001b[0m\u001b[1;33m(\u001b[0m\u001b[1;34m'Date'\u001b[0m\u001b[1;33m)\u001b[0m\u001b[1;33m\u001b[0m\u001b[1;33m\u001b[0m\u001b[0m\n\u001b[0;32m      4\u001b[0m \u001b[0mplt\u001b[0m\u001b[1;33m.\u001b[0m\u001b[0mylabel\u001b[0m\u001b[1;33m(\u001b[0m\u001b[1;34m'Users'\u001b[0m\u001b[1;33m)\u001b[0m\u001b[1;33m\u001b[0m\u001b[1;33m\u001b[0m\u001b[0m\n\u001b[0;32m      5\u001b[0m plt.legend(loc = 'upper right'\n\u001b[0;32m      6\u001b[0m \u001b[1;33m,\u001b[0m\u001b[1;33m\u001b[0m\u001b[1;33m\u001b[0m\u001b[0m\n\u001b[1;32m----> 7\u001b[1;33m labels = language.columns.values)\n\u001b[0m\u001b[0;32m      8\u001b[0m \u001b[0mplt\u001b[0m\u001b[1;33m.\u001b[0m\u001b[0mshow\u001b[0m\u001b[1;33m(\u001b[0m\u001b[1;33m)\u001b[0m\u001b[1;33m\u001b[0m\u001b[1;33m\u001b[0m\u001b[0m\n",
      "\u001b[1;32m~\\anaconda3\\Lib\\site-packages\\pandas\\core\\generic.py\u001b[0m in \u001b[0;36m?\u001b[1;34m(self, name)\u001b[0m\n\u001b[0;32m   5985\u001b[0m             \u001b[1;32mand\u001b[0m \u001b[0mname\u001b[0m \u001b[1;32mnot\u001b[0m \u001b[1;32min\u001b[0m \u001b[0mself\u001b[0m\u001b[1;33m.\u001b[0m\u001b[0m_accessors\u001b[0m\u001b[1;33m\u001b[0m\u001b[1;33m\u001b[0m\u001b[0m\n\u001b[0;32m   5986\u001b[0m             \u001b[1;32mand\u001b[0m \u001b[0mself\u001b[0m\u001b[1;33m.\u001b[0m\u001b[0m_info_axis\u001b[0m\u001b[1;33m.\u001b[0m\u001b[0m_can_hold_identifiers_and_holds_name\u001b[0m\u001b[1;33m(\u001b[0m\u001b[0mname\u001b[0m\u001b[1;33m)\u001b[0m\u001b[1;33m\u001b[0m\u001b[1;33m\u001b[0m\u001b[0m\n\u001b[0;32m   5987\u001b[0m         ):\n\u001b[0;32m   5988\u001b[0m             \u001b[1;32mreturn\u001b[0m \u001b[0mself\u001b[0m\u001b[1;33m[\u001b[0m\u001b[0mname\u001b[0m\u001b[1;33m]\u001b[0m\u001b[1;33m\u001b[0m\u001b[1;33m\u001b[0m\u001b[0m\n\u001b[1;32m-> 5989\u001b[1;33m         \u001b[1;32mreturn\u001b[0m \u001b[0mobject\u001b[0m\u001b[1;33m.\u001b[0m\u001b[0m__getattribute__\u001b[0m\u001b[1;33m(\u001b[0m\u001b[0mself\u001b[0m\u001b[1;33m,\u001b[0m \u001b[0mname\u001b[0m\u001b[1;33m)\u001b[0m\u001b[1;33m\u001b[0m\u001b[1;33m\u001b[0m\u001b[0m\n\u001b[0m",
      "\u001b[1;31mAttributeError\u001b[0m: 'Series' object has no attribute 'columns'"
     ]
    },
    {
     "data": {
      "image/png": "[encoded data removed]",
      "text/plain": [
       "<Figure size 640x480 with 1 Axes>"
      ]
     },
     "metadata": {},
     "output_type": "display_data"
    }
   ],
   "source": [
    "language.plot()\n",
    "plt.title('Daily language preferences')\n",
    "plt.xlabel('Date')\n",
    "plt.ylabel('Users')\n",
    "plt.legend(loc = 'upper right'\n",
    ",\n",
    "labels = language.columns.values)\n",
    "plt.show()"
   ]
  },
  {
   "cell_type": "markdown",
   "id": "162cae69",
   "metadata": {},
   "source": [
    "### Creating grouped bar charts"
   ]
  },
  {
   "cell_type": "code",
   "execution_count": null,
   "id": "816099f6",
   "metadata": {},
   "outputs": [],
   "source": [
    "# Create DataFrame grouped by age and language preference"
   ]
  },
  {
   "cell_type": "code",
   "execution_count": 35,
   "id": "ee3723c3",
   "metadata": {},
   "outputs": [
    {
     "name": "stdout",
     "output_type": "stream",
     "text": [
      "age_group           0-18 years  19-24 years  24-30 years  30-36 years  \\\n",
      "language_preferred                                                      \n",
      "Arabic                      19           26           19           19   \n",
      "English                   1421         1560         1442         1251   \n",
      "German                      31           29           35           16   \n",
      "Spanish                     68           67           72           69   \n",
      "\n",
      "age_group           36-45 years  45-55 years  55+ years  \n",
      "language_preferred                                       \n",
      "Arabic                       19           21         22  \n",
      "English                    1260         1240       1101  \n",
      "German                       19           25         12  \n",
      "Spanish                      55           67         52  \n"
     ]
    }
   ],
   "source": [
    "language_age = marketing.groupby(['language_preferred','age_group'])\\\n",
    "['user_id'].count()\n",
    "language_age = pd.DataFrame(language_age.unstack(level=1))\n",
    "print(language_age.head())"
   ]
  },
  {
   "cell_type": "code",
   "execution_count": null,
   "id": "7673d82c",
   "metadata": {},
   "outputs": [],
   "source": [
    "# Plotting language preferences by age group"
   ]
  },
  {
   "cell_type": "code",
   "execution_count": 36,
   "id": "ff9e2d57",
   "metadata": {},
   "outputs": [
    {
     "data": {
      "image/png": "[encoded data removed]",
      "text/plain": [
       "<Figure size 640x480 with 1 Axes>"
      ]
     },
     "metadata": {},
     "output_type": "display_data"
    }
   ],
   "source": [
    "language_age.plot(kind='bar')\n",
    "plt.title('Language preferences by age group')\n",
    "plt.xlabel('Language')\n",
    "plt.ylabel('Users')\n",
    "plt.legend(loc = 'upper right',labels = language_age.columns.values)\n",
    "plt.show()\n"
   ]
  },
  {
   "cell_type": "code",
   "execution_count": null,
   "id": "8e9bf4c2",
   "metadata": {},
   "outputs": [],
   "source": []
  },
  {
   "cell_type": "code",
   "execution_count": null,
   "id": "6911ce0c",
   "metadata": {},
   "outputs": [],
   "source": []
  },
  {
   "cell_type": "code",
   "execution_count": null,
   "id": "9f343e59",
   "metadata": {},
   "outputs": [],
   "source": []
  },
  {
   "cell_type": "code",
   "execution_count": null,
   "id": "ecb7efbe",
   "metadata": {},
   "outputs": [],
   "source": []
  },
  {
   "cell_type": "code",
   "execution_count": null,
   "id": "7be73f59",
   "metadata": {},
   "outputs": [],
   "source": []
  },
  {
   "cell_type": "code",
   "execution_count": null,
   "id": "cdbf5609",
   "metadata": {},
   "outputs": [],
   "source": []
  },
  {
   "cell_type": "code",
   "execution_count": null,
   "id": "7ea7e2fb",
   "metadata": {},
   "outputs": [],
   "source": []
  },
  {
   "cell_type": "code",
   "execution_count": null,
   "id": "91533406",
   "metadata": {},
   "outputs": [],
   "source": []
  },
  {
   "cell_type": "code",
   "execution_count": null,
   "id": "b0a26eac",
   "metadata": {},
   "outputs": [],
   "source": []
  }
 ],
 "metadata": {
  "kernelspec": {
   "display_name": "Python 3 (ipykernel)",
   "language": "python",
   "name": "python3"
  },
  "language_info": {
   "codemirror_mode": {
    "name": "ipython",
    "version": 3
   },
   "file_extension": ".py",
   "mimetype": "text/x-python",
   "name": "python",
   "nbconvert_exporter": "python",
   "pygments_lexer": "ipython3",
   "version": "3.11.5"
  }
 },
 "nbformat": 4,
 "nbformat_minor": 5
}
